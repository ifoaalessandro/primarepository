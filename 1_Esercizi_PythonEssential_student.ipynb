{
  "nbformat": 4,
  "nbformat_minor": 0,
  "metadata": {
    "colab": {
      "provenance": [],
      "include_colab_link": true
    },
    "kernelspec": {
      "name": "python3",
      "display_name": "Python 3"
    }
  },
  "cells": [
    {
      "cell_type": "markdown",
      "metadata": {
        "id": "view-in-github",
        "colab_type": "text"
      },
      "source": [
        "<a href=\"https://colab.research.google.com/github/ifoaalessandro/primarepository/blob/main/1_Esercizi_PythonEssential_student.ipynb\" target=\"_parent\"><img src=\"https://colab.research.google.com/assets/colab-badge.svg\" alt=\"Open In Colab\"/></a>"
      ]
    },
    {
      "cell_type": "markdown",
      "metadata": {
        "id": "WNZUuGCDYUKI"
      },
      "source": [
        "# Funzioni Base"
      ]
    },
    {
      "cell_type": "markdown",
      "metadata": {
        "id": "h771ZStBY4t7"
      },
      "source": [
        "Creare una funzione che calcoli la somma di due valori"
      ]
    },
    {
      "cell_type": "code",
      "metadata": {
        "id": "9iTdmc6hYY28"
      },
      "source": [
        "def somma(a, b):\n",
        "  print('somma ' + str(a) + ' con ' + str(b))"
      ],
      "execution_count": null,
      "outputs": []
    },
    {
      "cell_type": "code",
      "metadata": {
        "id": "KrdDYbI1Yq6x",
        "colab": {
          "base_uri": "https://localhost:8080/",
          "height": 34
        },
        "outputId": "d733e0fb-af66-4405-c805-b0663cb43dda"
      },
      "source": [
        "somma(5, 7)"
      ],
      "execution_count": null,
      "outputs": [
        {
          "output_type": "stream",
          "text": [
            "somma 5 con 7\n"
          ],
          "name": "stdout"
        }
      ]
    },
    {
      "cell_type": "markdown",
      "metadata": {
        "id": "rqFjQ1dyZADA"
      },
      "source": [
        "Creare una funzione che crei una lista dati due valori"
      ]
    },
    {
      "cell_type": "code",
      "metadata": {
        "id": "EUlqC6EnZFC0"
      },
      "source": [
        "def lista(a, b):\n",
        "  print('lista con ' + str(a) + ' e ' + str(b))"
      ],
      "execution_count": null,
      "outputs": []
    },
    {
      "cell_type": "code",
      "metadata": {
        "id": "8hOWDzgpZEsi",
        "colab": {
          "base_uri": "https://localhost:8080/",
          "height": 34
        },
        "outputId": "bd436076-26f6-48d1-9e98-e9691b54b02f"
      },
      "source": [
        "lista('mario', 'luca')"
      ],
      "execution_count": null,
      "outputs": [
        {
          "output_type": "stream",
          "text": [
            "lista con mario e luca\n"
          ],
          "name": "stdout"
        }
      ]
    },
    {
      "cell_type": "markdown",
      "metadata": {
        "id": "qQwDdUnuZR_Q"
      },
      "source": [
        "Creare una funzione che ritorna le chiavi o i valori del dizionario"
      ]
    },
    {
      "cell_type": "code",
      "metadata": {
        "id": "UkNgjLFPZbfq"
      },
      "source": [
        "def chiavi_o_valori(d, tipo):\n",
        "  print('torniamo: ' + tipo)"
      ],
      "execution_count": null,
      "outputs": []
    },
    {
      "cell_type": "code",
      "metadata": {
        "id": "CB69f3LWZnR1",
        "colab": {
          "base_uri": "https://localhost:8080/",
          "height": 34
        },
        "outputId": "e100cebc-8892-4490-c1ef-74c971c6b393"
      },
      "source": [
        "d = {'mario': 10, 'luca': 12}\n",
        "chiavi_o_valori(d, 'chiavi')"
      ],
      "execution_count": null,
      "outputs": [
        {
          "output_type": "stream",
          "text": [
            "torniamo: chiavi\n"
          ],
          "name": "stdout"
        }
      ]
    },
    {
      "cell_type": "markdown",
      "metadata": {
        "id": "fuO3hdFajLh3"
      },
      "source": [
        "# Calcolo del fattoriale\n",
        "\n",
        "Creare una funzione che calcoli il fattoriale di un numero fornito in input alla funzione.\n",
        "\n",
        "Esempio: 5! = 5 * 4 * 3 * 2 * 1 = 120\n",
        "\n",
        "Nota:\n",
        "- non è possibile calcolare il fattoriale di un numero negativo\n",
        "- il fattoriale di 0 è 1"
      ]
    },
    {
      "cell_type": "code",
      "metadata": {
        "id": "uoRapGGjmihT"
      },
      "source": [
        "def calcola_fattoriale(n):  \n",
        "  print(\"Calcolo del fattoriale del numero {}\".format(n))\n",
        "\n",
        "  # DA COMPLETARE"
      ],
      "execution_count": null,
      "outputs": []
    },
    {
      "cell_type": "code",
      "metadata": {
        "id": "v4x72UpNX_e6",
        "colab": {
          "base_uri": "https://localhost:8080/",
          "height": 35
        },
        "outputId": "5ce28724-01bf-4f9f-c488-eb822204f6f9"
      },
      "source": [
        "calcola_fattoriale(6)"
      ],
      "execution_count": null,
      "outputs": [
        {
          "output_type": "stream",
          "text": [
            "Calcolo del fattoriale del numero 6\n"
          ],
          "name": "stdout"
        }
      ]
    },
    {
      "cell_type": "markdown",
      "metadata": {
        "id": "CgTI4NJAjSow"
      },
      "source": [
        "# Rendere maiuscola la prima lettera di ogni parola contenuta in una frase\n",
        "\n",
        "Tips:\n",
        "- la funzione **split** applicata ad una stringa permette di separare le parole della stringa in funzione di un separatore fornito in input alla funzione (di default la funzione split separa le parole sulla base di uno spazio)\n",
        "  - \\<lista> = \\<stringa>.split(\\<separatore>)\n",
        "- la funzione **join** permette di concatenare gli elementi di una lista e di separarli mediante un separatore al fine di generare una stringa\n",
        "  - \\<stringa> = \\<separatore>.join(\\<lista>)"
      ]
    },
    {
      "cell_type": "code",
      "metadata": {
        "id": "h7T8_p9i91mf",
        "colab": {
          "base_uri": "https://localhost:8080/",
          "height": 35
        },
        "outputId": "0098405c-534c-4f33-969f-2503a97fa38b"
      },
      "source": [
        "s = \"ciao francesco\"\n",
        "res = s.split(' ')\n",
        "res"
      ],
      "execution_count": null,
      "outputs": [
        {
          "output_type": "execute_result",
          "data": {
            "text/plain": [
              "['ciao', 'francesco']"
            ]
          },
          "metadata": {
            "tags": []
          },
          "execution_count": 11
        }
      ]
    },
    {
      "cell_type": "code",
      "metadata": {
        "id": "Aqt32Ck79_L5",
        "colab": {
          "base_uri": "https://localhost:8080/",
          "height": 35
        },
        "outputId": "40b46227-ad72-46f5-e5a0-a4f5cf566311"
      },
      "source": [
        "res = ' '.join(['a', 'b', 'c'])\n",
        "res"
      ],
      "execution_count": null,
      "outputs": [
        {
          "output_type": "execute_result",
          "data": {
            "text/plain": [
              "'a b c'"
            ]
          },
          "metadata": {
            "tags": []
          },
          "execution_count": 12
        }
      ]
    },
    {
      "cell_type": "code",
      "metadata": {
        "id": "9TPMiV1sjV4-"
      },
      "source": [
        "frase = \"La prima lettera di ogni parola contenuta in questa frase deve essere resa maiusola.\"\n",
        "\n",
        "# recuperare le parole dalla frase\n",
        "\n",
        "# rendere maiuscola la prima lettera di ogni parola\n",
        "\n",
        "# concatenare le parole modificate per ricreare la frase originale\n",
        "\n",
        "frase_maiuscola = None"
      ],
      "execution_count": null,
      "outputs": []
    },
    {
      "cell_type": "code",
      "metadata": {
        "id": "HBFTjNZJ9Ybh"
      },
      "source": [
        "frase_maiuscola"
      ],
      "execution_count": null,
      "outputs": []
    },
    {
      "cell_type": "code",
      "metadata": {
        "id": "YHEZ7cv6jbgV",
        "colab": {
          "base_uri": "https://localhost:8080/",
          "height": 35
        },
        "outputId": "6b54216e-9bc5-4beb-f8b4-6c40232c9aa5"
      },
      "source": [
        "frase.title()"
      ],
      "execution_count": null,
      "outputs": [
        {
          "output_type": "execute_result",
          "data": {
            "text/plain": [
              "'La Prima Lettera Di Ogni Parola Contenuta In Questa Frase Deve Essere Resa Maiusola.'"
            ]
          },
          "metadata": {
            "tags": []
          },
          "execution_count": 8
        }
      ]
    },
    {
      "cell_type": "markdown",
      "metadata": {
        "id": "lUFjgO7Rjf_I"
      },
      "source": [
        "# Creare due dizionari aventi delle chiavi comuni e creare un terzo dizionario contenente la concatenazione dei valori corrispondenti alle chiavi comuni.\n",
        "\n",
        "Tips:\n",
        "- usare il metodo **intersection** dei set per trovare le chiavi comuni ai due set di chiavi"
      ]
    },
    {
      "cell_type": "code",
      "metadata": {
        "id": "unc_PwvA-LXn",
        "colab": {
          "base_uri": "https://localhost:8080/",
          "height": 35
        },
        "outputId": "2055c632-738b-488d-f2be-46fdfb2000c2"
      },
      "source": [
        "s1 = {1, 2, 3}\n",
        "s2 = {2,3,4}\n",
        "s1.intersection(s2)"
      ],
      "execution_count": null,
      "outputs": [
        {
          "output_type": "execute_result",
          "data": {
            "text/plain": [
              "{2, 3}"
            ]
          },
          "metadata": {
            "tags": []
          },
          "execution_count": 15
        }
      ]
    },
    {
      "cell_type": "code",
      "metadata": {
        "id": "oly1h2m0jgZB"
      },
      "source": [
        "# creare due dizionari con qualche chiave in comune\n",
        "\n",
        "# recuperare le chiavi comuni\n",
        "\n",
        "# memorizzare in un nuovo dizionario la concatenazione dei valori delle chiavi comuni"
      ],
      "execution_count": null,
      "outputs": []
    },
    {
      "cell_type": "markdown",
      "metadata": {
        "id": "Ib6k1gKajl58"
      },
      "source": [
        "# Mostrare le parole di una frase in ordine decrescente rispetto la loro frequenza di occorrenza\n",
        "Tips:\n",
        "\n",
        "- usare split per recuperare le parole della frase\n",
        "- salvare in un dizionario le parole con relative occorrenze\n",
        "- utilizzare il metodo items sul dizionario per ottenere delle coppie (parola, freq)\n",
        "- utilizzare la funzione sorted per effettuare l'ordinamento\n",
        "sorted(<lista>, key=<chiave_ordinamento>, reverse=<True o False>)"
      ]
    },
    {
      "cell_type": "code",
      "metadata": {
        "id": "ECQ9-aFMjn2O"
      },
      "source": [
        "frase = \"Buffalo buffalo Buffalo buffalo buffalo buffalo Buffalo buffalo\""
      ],
      "execution_count": null,
      "outputs": []
    },
    {
      "cell_type": "code",
      "metadata": {
        "id": "WF2bcWsO-gnO"
      },
      "source": [
        "# Usare split per recuperare le parole della frase\n",
        "\n",
        "# Salvare in un dizionario le parole con relative occorrenze\n",
        "\n",
        "# Utilizzare il metodo items sul dizionario per ottenere delle coppie (parola, freq)\n",
        "\n",
        "# Utilizzare la funzione sorted per effettuare l'ordinamento\n",
        "# sorted(<lista>, key=<chiave_ordinamento>, reverse=<True o False>)"
      ],
      "execution_count": null,
      "outputs": []
    },
    {
      "cell_type": "markdown",
      "metadata": {
        "id": "bxQq-UAtjwpA"
      },
      "source": [
        "# Suddividere una lista in parti di equa dimensione (ad eccezione eventualmente dell’ultima)"
      ]
    },
    {
      "cell_type": "code",
      "metadata": {
        "id": "O3orSmaUjw_E"
      },
      "source": [
        "# creare una lista e definire la dimensione delle partizioni\n",
        "\n",
        "# calcolare il numero delle partizioni\n",
        "\n",
        "# creare una nuova lista ed aggiungervi le partizioni"
      ],
      "execution_count": null,
      "outputs": []
    },
    {
      "cell_type": "markdown",
      "metadata": {
        "id": "RdW6qcwz2Wre"
      },
      "source": [
        "# Tabelline\n",
        "Chiedere all'utente 10 tabelline casualmente.\n",
        "Memorizzare richiesta e il risultato fornito  in due  dictionary e al termine stampare tutto\n",
        "\n",
        "\n",
        "Tips:\n",
        "- import sys // input() permette di gestire l'input utente\n",
        "    - memorizzare il risultato con la funzione  userRis = int(input()) #integer input\n",
        "- La funzione  np.random.randint(1,11) in import numpy as np genera un numero casuale da 1 a 10\n",
        "    "
      ]
    },
    {
      "cell_type": "code",
      "metadata": {
        "id": "RE1r14JgDfUS",
        "colab": {
          "base_uri": "https://localhost:8080/",
          "height": 35
        },
        "outputId": "a098469e-17af-4b96-ff4d-d22a4fb19b68"
      },
      "source": [
        "import numpy as np\n",
        "np.random.randint(1, 3)"
      ],
      "execution_count": null,
      "outputs": [
        {
          "output_type": "execute_result",
          "data": {
            "text/plain": [
              "1"
            ]
          },
          "metadata": {
            "tags": []
          },
          "execution_count": 16
        }
      ]
    },
    {
      "cell_type": "code",
      "metadata": {
        "id": "0XrLFI-TDjD0",
        "colab": {
          "base_uri": "https://localhost:8080/",
          "height": 52
        },
        "outputId": "04ecaa33-b2b6-4fba-8336-41ff88bafcdd"
      },
      "source": [
        "import sys\n",
        "\n",
        "res = input()\n",
        "print('res è ' + res)"
      ],
      "execution_count": null,
      "outputs": [
        {
          "output_type": "stream",
          "text": [
            "ciao\n",
            "res è ciao\n"
          ],
          "name": "stdout"
        }
      ]
    },
    {
      "cell_type": "code",
      "metadata": {
        "id": "QB_usvDo4R6U",
        "colab": {
          "base_uri": "https://localhost:8080/",
          "height": 221
        },
        "outputId": "082a11d8-1278-4a8a-d654-4b4a482a1174"
      },
      "source": [
        "import sys\n",
        "import numpy as np\n",
        "\n",
        "# creare due dizionari per memorizzare le tabelline richieste e i relativi risultati\n",
        "\n",
        "# creare un ciclo di 10 iterazioni\n",
        "  # generare casualmente due numeri\n",
        "  # chiedere e recuperare il risultato dell'operazione all'utente\n",
        "  # memorizzare sia l'operazione che il risultato negli opportuni dizionari\n",
        "\n",
        "# stampare le 10 tabelline richieste all'utente, valutandone la correttezza\n"
      ],
      "execution_count": null,
      "outputs": [
        {
          "output_type": "stream",
          "text": [
            "Quanto fa 3 * 9\n",
            "27\n",
            "Quanto fa 2 * 9\n",
            "18\n",
            "3 * 9\n",
            "Risultato Atteso = 27\n",
            "Risultato Utente  = 27\n",
            "Corretto!!!\n",
            "2 * 9\n",
            "Risultato Atteso = 18\n",
            "Risultato Utente  = 18\n",
            "Corretto!!!\n"
          ],
          "name": "stdout"
        }
      ]
    },
    {
      "cell_type": "markdown",
      "metadata": {
        "id": "Yd3WtL754Ym8"
      },
      "source": [
        "# Il mio compleanno!\n",
        "Quanti giorni mancano al compleanno dell'utente? Realizza una funzione che effettua questo conteggio\n",
        "\n",
        "Tips:\n",
        "- import datetime permette di gestire il tempo\n",
        "- import sys // input() permette di gestire l'input utente\n",
        "    - chiedere il mese e il giorno di nascita tramite int(input()) e str(input))\n",
        "    \n",
        "Algoritmo\n",
        "- fare una funzione per convertire i mesi in numeri\n",
        "- chiedere il giorno di nascita\n",
        "- chiedere il mese di nascita\n",
        "- convertire il mese in numero\n",
        "- calcolare l'anno del prossimo compleanno\n",
        "- fare la differenze tra la data odierna e quella del prossimo compleanno\n",
        "\n",
        "\n"
      ]
    },
    {
      "cell_type": "code",
      "metadata": {
        "id": "ZEcG7Th4419f"
      },
      "source": [
        "import sys\n",
        "import datetime\n",
        "\n",
        "def convertiMese(Mese):\n",
        "    conversione = {\"gennaio\":1, 'febbraio':2, 'marzo':3, 'aprile':4,'maggio':5,'giugno':6,'luglio':7,'agosto':8, 'settembre':9, 'ottobre':10, 'novembre':11, 'dicembre':12}\n",
        "    return conversione[Mese]\n",
        "\n",
        "def quantoManca():\n",
        "    print(\"Qual è il tuo giorno di nascita?\")\n",
        "    giornoCompleanno = int(input())\n",
        "    print(\"Qual è il tuo Mese di nascita?\")\n",
        "    meseCompleanno = convertiMese(str.lower(input()))\n",
        "    oggi = datetime.date.today().day\n",
        "    mese = datetime.date.today().month\n",
        "    if (mese>meseCompleanno):\n",
        "        annoCompleanno = datetime.date.today().year+1\n",
        "    elif(mese<meseCompleanno):\n",
        "        annoCompleanno = datetime.date.today().year\n",
        "    else:\n",
        "        if (giornoCompleanno<=oggi):\n",
        "            annoCompleanno = datetime.date.today().year+1\n",
        "        else:\n",
        "            annoCompleanno = datetime.date.today().year\n",
        "    dataCompleanno = datetime.date(annoCompleanno, meseCompleanno, giornoCompleanno)\n",
        "    return print('Mancano ' +str(dataCompleanno- datetime.date.today()))"
      ],
      "execution_count": null,
      "outputs": []
    },
    {
      "cell_type": "code",
      "metadata": {
        "id": "Oq4Ju8Yr5PIE",
        "colab": {
          "base_uri": "https://localhost:8080/",
          "height": 106
        },
        "outputId": "0d20c004-e421-4287-8c5d-f2a98336d683"
      },
      "source": [
        "quantoManca()"
      ],
      "execution_count": null,
      "outputs": [
        {
          "output_type": "stream",
          "text": [
            "Qual è il tuo giorno di nascita?\n",
            "10\n",
            "Qual è il tuo Mese di nascita?\n",
            "Maggio\n",
            "Mancano 359 days, 0:00:00\n"
          ],
          "name": "stdout"
        }
      ]
    },
    {
      "cell_type": "code",
      "metadata": {
        "id": "donJ4Mh0X2zg"
      },
      "source": [],
      "execution_count": null,
      "outputs": []
    }
  ]
}