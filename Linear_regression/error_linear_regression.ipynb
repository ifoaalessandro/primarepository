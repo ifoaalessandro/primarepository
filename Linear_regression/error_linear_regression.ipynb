{
 "cells": [
  {
   "cell_type": "code",
   "execution_count": 1,
   "metadata": {},
   "outputs": [
    {
     "name": "stderr",
     "output_type": "stream",
     "text": [
      "2023-05-09 12:24:53.469 \n",
      "  \u001b[33m\u001b[1mWarning:\u001b[0m to view this Streamlit app on a browser, run it with the following\n",
      "  command:\n",
      "\n",
      "    streamlit run C:\\Users\\ifoa\\AppData\\Roaming\\Python\\Python310\\site-packages\\ipykernel_launcher.py [ARGUMENTS]\n"
     ]
    }
   ],
   "source": [
    "import streamlit as st\n",
    "import pandas as pd\n",
    "import numpy as np\n",
    "import matplotlib\n",
    "import sklearn\n",
    "import mlem\n",
    "import io\n",
    "\n",
    "\n",
    "def main():\n",
    "\n",
    "    st.title(\"template\")\n",
    "\n",
    "    uploaded_file = st.file_uploader(\"Choose a file\",type={\"csv\"})\n",
    "    if uploaded_file is not None:\n",
    "        ###### transformation #####################################\n",
    "        df = pd.read_csv(uploaded_file)\n",
    "        st.dataframe(df)\n",
    "\n",
    "        # st.write(df)\n",
    "        df = df.drop(columns='Profit')\n",
    "        st.dataframe(df)\n",
    "        X = df.copy()\n",
    "\n",
    "        new_model = mlem.api.load('model_.mlem')\n",
    "\n",
    "        # x1 = st.slider(\"Inserire R&D Spend:\", 1, 100000, 1)\n",
    "        # x2 = st.slider(\"Inserire Administration:\", 1, 100000, 1)\n",
    "        # x3 = st.slider(\"Inserire Marketing Spend:\", 1, 100000, 1)\n",
    "\n",
    "        res = new_model.predict(X)\n",
    "        \n",
    "        st.title(\"Model predict\")\n",
    "        st.write(res.round(2))\n",
    "        df['Prediction']=res\n",
    "        st.dataframe(df)\n",
    "\n",
    "        buffer = io.BytesIO()\n",
    "        with pd.ExcelWriter(buffer, engine='xlsxwriter') as writer:\n",
    "            # Write each dataframe to a different worksheet.\n",
    "            df.to_excel(writer, index=False)\n",
    "            # Close the Pandas Excel writer and output the Excel file to the buffer\n",
    "            writer.save()\n",
    "            st.download_button(\n",
    "                label=\"Download Excel Result\",\n",
    "                data=buffer,\n",
    "                file_name=\"trasnformed_file.xlsx\",\n",
    "                mime=\"application/vnd.ms-excel\")\n",
    "    \n",
    "    else:\n",
    "        st.warning(\"File CSV is required\")\n",
    "\n",
    "\n",
    "\n",
    "\n",
    "if __name__ == \"__main__\":\n",
    "    main()"
   ]
  },
  {
   "cell_type": "code",
   "execution_count": 2,
   "metadata": {},
   "outputs": [],
   "source": [
    "from sklearn.metrics import PredictionErrorDisplay\n",
    "\n",
    "\n",
    "if st.button('Scarica Excel'):\n",
    "        output = io.BytesIO()\n",
    "        writer = pd.ExcelWriter(output, engine='xlsxwriter')\n",
    "        \n",
    "        input_df.to_excel(writer, index=False, sheet_name='Input')\n",
    "        \n",
    "        pd.DataFrame(PredictionErrorDisplay, columns=['Profitto previsto']).to_excel(writer, index=False, sheet_name='Output')\n",
    "        writer.save()\n",
    "        output.seek(0)\n",
    "        st.download_button(label=\"Download\", data=output, file_name='output.xlsx', mime='application/vnd.openxmlformats-officedocument.spreadsheetml.sheet',)"
   ]
  }
 ],
 "metadata": {
  "kernelspec": {
   "display_name": "Python 3",
   "language": "python",
   "name": "python3"
  },
  "language_info": {
   "codemirror_mode": {
    "name": "ipython",
    "version": 3
   },
   "file_extension": ".py",
   "mimetype": "text/x-python",
   "name": "python",
   "nbconvert_exporter": "python",
   "pygments_lexer": "ipython3",
   "version": "3.10.11"
  },
  "orig_nbformat": 4
 },
 "nbformat": 4,
 "nbformat_minor": 2
}
