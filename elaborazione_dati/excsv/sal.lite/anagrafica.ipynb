{
 "cells": [
  {
   "cell_type": "code",
   "execution_count": 1,
   "metadata": {},
   "outputs": [],
   "source": [
    "import pandas as pd\n",
    "import numpy as np"
   ]
  },
  {
   "cell_type": "code",
   "execution_count": 13,
   "metadata": {},
   "outputs": [
    {
     "data": {
      "text/html": [
       "<div>\n",
       "<style scoped>\n",
       "    .dataframe tbody tr th:only-of-type {\n",
       "        vertical-align: middle;\n",
       "    }\n",
       "\n",
       "    .dataframe tbody tr th {\n",
       "        vertical-align: top;\n",
       "    }\n",
       "\n",
       "    .dataframe thead th {\n",
       "        text-align: right;\n",
       "    }\n",
       "</style>\n",
       "<table border=\"1\" class=\"dataframe\">\n",
       "  <thead>\n",
       "    <tr style=\"text-align: right;\">\n",
       "      <th></th>\n",
       "      <th>ragione_sociale</th>\n",
       "      <th>partita_iva</th>\n",
       "      <th>codice_fiscale</th>\n",
       "    </tr>\n",
       "  </thead>\n",
       "  <tbody>\n",
       "    <tr>\n",
       "      <th>0</th>\n",
       "      <td>COSCO SHIPPING LINES (ITALY) S.R.L.</td>\n",
       "      <td>1545620997</td>\n",
       "      <td>1545620997</td>\n",
       "    </tr>\n",
       "    <tr>\n",
       "      <th>1</th>\n",
       "      <td>CONFARTIGIANATO TORINO SERVIZI PER LE IMPRESE ...</td>\n",
       "      <td>9055130018</td>\n",
       "      <td>9055130018</td>\n",
       "    </tr>\n",
       "    <tr>\n",
       "      <th>2</th>\n",
       "      <td>MA.RE.TO 77 S.R.L.</td>\n",
       "      <td>12216370010</td>\n",
       "      <td>96684430018</td>\n",
       "    </tr>\n",
       "    <tr>\n",
       "      <th>3</th>\n",
       "      <td>OFFICINE METALMECCANICHE LAZIALI S.R.L. IN SIG...</td>\n",
       "      <td>2156300598</td>\n",
       "      <td>2156300598</td>\n",
       "    </tr>\n",
       "    <tr>\n",
       "      <th>4</th>\n",
       "      <td>ELIABRUZZO - S.R.L.</td>\n",
       "      <td>1430240695</td>\n",
       "      <td>1430240695</td>\n",
       "    </tr>\n",
       "    <tr>\n",
       "      <th>...</th>\n",
       "      <td>...</td>\n",
       "      <td>...</td>\n",
       "      <td>...</td>\n",
       "    </tr>\n",
       "    <tr>\n",
       "      <th>395</th>\n",
       "      <td>ALIARA VINI SOCIETA' AGRICOLA S.R.L. ALIARA SO...</td>\n",
       "      <td>3541160549</td>\n",
       "      <td>3541160549</td>\n",
       "    </tr>\n",
       "    <tr>\n",
       "      <th>396</th>\n",
       "      <td>ALICA SOCIETA' COOPERATIVA AGRICOLA</td>\n",
       "      <td>3015810603</td>\n",
       "      <td>3015810603</td>\n",
       "    </tr>\n",
       "    <tr>\n",
       "      <th>397</th>\n",
       "      <td>ALLEANZA AGRICOLA SOCIETA' COOPERATIVA</td>\n",
       "      <td>2155190982</td>\n",
       "      <td>2155190982</td>\n",
       "    </tr>\n",
       "    <tr>\n",
       "      <th>398</th>\n",
       "      <td>ALLEVAMENTI &amp; PODERI PADANI SOCIETA' AGRICOLA ...</td>\n",
       "      <td>1655970190</td>\n",
       "      <td>1655970190</td>\n",
       "    </tr>\n",
       "    <tr>\n",
       "      <th>399</th>\n",
       "      <td>ALLEVAMENTI AURORA SOCIETA' AGRICOLA COOPERATI...</td>\n",
       "      <td>605890045</td>\n",
       "      <td>605890045</td>\n",
       "    </tr>\n",
       "  </tbody>\n",
       "</table>\n",
       "<p>400 rows × 3 columns</p>\n",
       "</div>"
      ],
      "text/plain": [
       "                                       ragione_sociale  partita_iva  \\\n",
       "0                  COSCO SHIPPING LINES (ITALY) S.R.L.   1545620997   \n",
       "1    CONFARTIGIANATO TORINO SERVIZI PER LE IMPRESE ...   9055130018   \n",
       "2                                   MA.RE.TO 77 S.R.L.  12216370010   \n",
       "3    OFFICINE METALMECCANICHE LAZIALI S.R.L. IN SIG...   2156300598   \n",
       "4                                  ELIABRUZZO - S.R.L.   1430240695   \n",
       "..                                                 ...          ...   \n",
       "395  ALIARA VINI SOCIETA' AGRICOLA S.R.L. ALIARA SO...   3541160549   \n",
       "396                ALICA SOCIETA' COOPERATIVA AGRICOLA   3015810603   \n",
       "397             ALLEANZA AGRICOLA SOCIETA' COOPERATIVA   2155190982   \n",
       "398  ALLEVAMENTI & PODERI PADANI SOCIETA' AGRICOLA ...   1655970190   \n",
       "399  ALLEVAMENTI AURORA SOCIETA' AGRICOLA COOPERATI...    605890045   \n",
       "\n",
       "    codice_fiscale  \n",
       "0       1545620997  \n",
       "1       9055130018  \n",
       "2      96684430018  \n",
       "3       2156300598  \n",
       "4       1430240695  \n",
       "..             ...  \n",
       "395     3541160549  \n",
       "396     3015810603  \n",
       "397     2155190982  \n",
       "398     1655970190  \n",
       "399      605890045  \n",
       "\n",
       "[400 rows x 3 columns]"
      ]
     },
     "execution_count": 13,
     "metadata": {},
     "output_type": "execute_result"
    }
   ],
   "source": [
    "df = pd.read_excel('anagrafica.xlsx', dtype= {\"partita_iva\": str,\"codice_fiscale\": str})\n",
    "df\n",
    "\n"
   ]
  },
  {
   "cell_type": "code",
   "execution_count": 5,
   "metadata": {},
   "outputs": [],
   "source": [
    "import pandas as pd\n",
    "import sqlite3\n",
    "df = pd.read_excel('anagrafica.xlsx', dtype= {\"partita_iva\": str,\"codice_fiscale\": str})\n"
   ]
  },
  {
   "cell_type": "code",
   "execution_count": 7,
   "metadata": {},
   "outputs": [
    {
     "name": "stdout",
     "output_type": "stream",
     "text": [
      "<class 'pandas.core.frame.DataFrame'>\n",
      "RangeIndex: 400 entries, 0 to 399\n",
      "Data columns (total 3 columns):\n",
      " #   Column           Non-Null Count  Dtype \n",
      "---  ------           --------------  ----- \n",
      " 0   ragione_sociale  400 non-null    object\n",
      " 1   partita_iva      400 non-null    object\n",
      " 2   codice_fiscale   400 non-null    object\n",
      "dtypes: object(3)\n",
      "memory usage: 9.5+ KB\n"
     ]
    }
   ],
   "source": [
    "df[\"partita_iva\"]= df[\"partita_iva\"].str.zfill(11)\n",
    "df[\"codice_fiscale\"]= df[\"codice_fiscale\"].str.zfill(11)\n",
    "df.info()\n"
   ]
  },
  {
   "cell_type": "code",
   "execution_count": null,
   "metadata": {},
   "outputs": [],
   "source": []
  },
  {
   "cell_type": "code",
   "execution_count": null,
   "metadata": {},
   "outputs": [],
   "source": [
    "import pandas as pd\n",
    "import sqlite3\n",
    "\n",
    "def populate_sqlite_from_csv(file, database_file,tablename):\n",
    "    # Leggi il foglio di calcolo Excel in un DataFrame\n",
    "    df = pd.read_csv(file)\n",
    "    # Connette al database SQLite\n",
    "    conn = sqlite3.connect(database_file)\n",
    "    # Scrivi il DataFrame nel database SQLite\n",
    "    df.to_sql(tablename, conn, if_exists='replace', index=False)\n",
    "    # Chiudi la connessione al database\n",
    "    conn.close()\n",
    "\n",
    "\n",
    "def populate_sqlite_from_df(df, database_file,tablename):    \n",
    "    # Connette al database SQLite\n",
    "    conn = sqlite3.connect(database_file)\n",
    "    # Scrivi il DataFrame nel database SQLite\n",
    "    df.to_sql(tablename, conn, if_exists='replace', index=False)\n",
    "    # Chiudi la connessione al database\n",
    "    conn.close()\n",
    "\n",
    "populate_sqlite_from_df(anagrafica,\"test.db\",anagrafica.csv)"
   ]
  },
  {
   "cell_type": "code",
   "execution_count": null,
   "metadata": {},
   "outputs": [],
   "source": [
    "#sqlite to df\n",
    "import sqlite3\n",
    "\n",
    "con = sqlite3.connect(\"test.db\")\n",
    "df = pd.read_sql_query(\"SELECT * from energia\", con)\n",
    "df"
   ]
  }
 ],
 "metadata": {
  "kernelspec": {
   "display_name": "Python 3",
   "language": "python",
   "name": "python3"
  },
  "language_info": {
   "codemirror_mode": {
    "name": "ipython",
    "version": 3
   },
   "file_extension": ".py",
   "mimetype": "text/x-python",
   "name": "python",
   "nbconvert_exporter": "python",
   "pygments_lexer": "ipython3",
   "version": "3.9.7"
  },
  "orig_nbformat": 4
 },
 "nbformat": 4,
 "nbformat_minor": 2
}
